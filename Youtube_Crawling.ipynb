{
 "cells": [
  {
   "cell_type": "code",
   "execution_count": 3,
   "metadata": {},
   "outputs": [],
   "source": [
    "from selenium import webdriver\n",
    "from bs4 import BeautifulSoup\n",
    "\n",
    "class youtube_select(object):\n",
    "    def __init__(self):\n",
    "        self.url = 'https://www.youtube.com/results?search_query='\n",
    "        self.de = webdriver.Chrome(r\"C:\\Users\\HAMA\\Desktop\\crawling\\chromedriver-win64\\chromedriver.exe\")\n",
    "        \n",
    "    def search(self, name):\n",
    "        # self.de.s self.url\n",
    "        \n",
    "\n",
    "        html = self.driver.page_source\n",
    "        \n",
    "        \n",
    "C:\\Users\\HAMA\\Desktop\\crawling\\movie_crawling\\Youtube_Crawling.ipynb"
   ]
  }
 ],
 "metadata": {
  "kernelspec": {
   "display_name": "doomin",
   "language": "python",
   "name": "doomin"
  },
  "language_info": {
   "codemirror_mode": {
    "name": "ipython",
    "version": 3
   },
   "file_extension": ".py",
   "mimetype": "text/x-python",
   "name": "python",
   "nbconvert_exporter": "python",
   "pygments_lexer": "ipython3",
   "version": "3.7.1"
  }
 },
 "nbformat": 4,
 "nbformat_minor": 2
}
