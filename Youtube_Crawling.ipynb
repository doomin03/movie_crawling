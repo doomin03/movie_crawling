{
 "cells": [
  {
   "cell_type": "code",
   "execution_count": 19,
   "metadata": {},
   "outputs": [],
   "source": [
    "from selenium import webdriver\n",
    "\n",
    "from bs4 import BeautifulSoup\n",
    "\n",
    "class youtube_select(object):\n",
    "    def __init__(self, driver_path):\n",
    "        self.url = 'https://www.youtube.com/results?search_query='\n",
    "        self.driver = webdriver.Chrome(driver_path)\n",
    "        \n",
    "    def search(self, name):\n",
    "        self.driver.get(self.url + name)\n",
    "        html = self.driver.page_source\n",
    "        \n",
    "        soup = BeautifulSoup(html)\n",
    "        link = soup.select_one(\"#video-title\")\n",
    "        if link == None:\n",
    "            print(\"태그를 확인하게요\")\n",
    "            return\n",
    "        \n",
    "        self.driver.get(\"https://www.youtube.com\"+link.attrs['href'])\n",
    "        \n",
    "        \n",
    "       \n",
    "path = r\"C:\\Users\\HAMA\\Desktop\\crawling\\chromedriver-win64\\chromedriver.exe\"\n",
    "test = youtube_select(path)\n",
    "test.search(\"대동문화재단 [입문학수다 68] 연인들은 왜 샘에서 만날까\") \n",
    "       "
   ]
  }
 ],
 "metadata": {
  "kernelspec": {
   "display_name": "doomin",
   "language": "python",
   "name": "doomin"
  },
  "language_info": {
   "codemirror_mode": {
    "name": "ipython",
    "version": 3
   },
   "file_extension": ".py",
   "mimetype": "text/x-python",
   "name": "python",
   "nbconvert_exporter": "python",
   "pygments_lexer": "ipython3",
   "version": "3.7.1"
  }
 },
 "nbformat": 4,
 "nbformat_minor": 2
}
