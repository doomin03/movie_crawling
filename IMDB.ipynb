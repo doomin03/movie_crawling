{
 "cells": [
  {
   "cell_type": "code",
   "execution_count": 9,
   "metadata": {},
   "outputs": [],
   "source": [
    "from selenium import webdriver\n",
    "from bs4 import BeautifulSoup\n",
    "\n",
    "class IMDB_moive_select(object):\n",
    "    def __init__(self, chorme_driver):\n",
    "        self.url = \"https://www.imdb.com/?ref_=nv_home\"\n",
    "        self.driver = webdriver.Chrome(chorme_driver)\n",
    "        \n",
    "    def search(self, movie_name):\n",
    "        _url = 'https://www.imdb.com'\n",
    "        search_url = \"https://www.imdb.com/find/?q=\"\n",
    "        self.driver.get(search_url+movie_name)\n",
    "\n",
    "        html = self.driver.page_source\n",
    "        \n",
    "        \n",
    "        if(html == None):\n",
    "            print(\"영화 이름을 확인하세요!!!\",html)\n",
    "            return \n",
    "        else:\n",
    "            soup = BeautifulSoup(html)\n",
    "        \n",
    "        link = soup.select_one(\"#__next > main > div.ipc-page-content-container.ipc-page-content-container--full.sc-4ce8cf2c-0.efkzGq > div.ipc-page-content-container.ipc-page-content-container--center > section > div > div.ipc-page-grid__item.ipc-page-grid__item--span-2 > section:nth-child(3) > div.sc-17bafbdb-2.iUyFfD > ul > li > div.ipc-metadata-list-summary-item__c > div > a\")\n",
    "        if(link==None):\n",
    "            print(\"링크를 확인해주세요\")\n",
    "            return \n",
    "                    \n",
    "        self.driver.get(_url + link.attrs['href'])\n",
    "        \n",
    "        \n",
    "    def extract(self, html):\n",
    "        soup = BeautifulSoup(html)\n",
    "        data = []\n",
    "        data.append(soup.select(\"#__next > main > div > section.ipc-page-background.ipc-page-background--base.sc-304f99f6-0.fSJiHR > section > div:nth-child(5) > section > section > div.sc-4e4cc5f9-4.ixQHwZ > div.sc-4e4cc5f9-6.fFWQTt > div.sc-4e4cc5f9-10.jXLkbv > section > div.ipc-chip-list--baseAlt.ipc-chip-list > div.ipc-chip-list__scroller\"))\n",
    "        data.append(soup)\n",
    "        \n",
    "        \n",
    "        \n",
    "    def drive_close(self):\n",
    "        self.driver.close()    \n",
    "        \n",
    "driver = r\"C:\\Users\\HAMA\\Desktop\\crawling\\chromedriver-win64\\chromedriver.exe\"\n",
    "\n",
    "\n",
    "\n",
    "\n",
    "test = IMDB_moive_select(driver)\n",
    "test.search(\"knowing: 어셈블\")\n",
    "# test.drive_close()"
   ]
  },
  {
   "cell_type": "markdown",
   "metadata": {},
   "source": [
    "# git 사용법\n",
    "- git clone {주소}\n",
    "\n",
    "- git add {파일 | .}\n",
    "- git commit -m \"{커밋 메시지}\"\n",
    "- git push {데이터 올리기}\n",
    "\n",
    "- git pull {데이터 불러오기}"
   ]
  },
  {
   "cell_type": "markdown",
   "metadata": {},
   "source": []
  }
 ],
 "metadata": {
  "kernelspec": {
   "display_name": "doomin",
   "language": "python",
   "name": "doomin"
  },
  "language_info": {
   "codemirror_mode": {
    "name": "ipython",
    "version": 3
   },
   "file_extension": ".py",
   "mimetype": "text/x-python",
   "name": "python",
   "nbconvert_exporter": "python",
   "pygments_lexer": "ipython3",
   "version": "3.7.1"
  }
 },
 "nbformat": 4,
 "nbformat_minor": 2
}
