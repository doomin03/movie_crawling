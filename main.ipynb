{
 "cells": [
  {
   "cell_type": "code",
   "execution_count": null,
   "metadata": {},
   "outputs": [],
   "source": [
    "import pymysql\n",
    "\n",
    "db_config = {\n",
    "    'host': 'localhost',\n",
    "    'user': 'admin',\n",
    "    'password': 'vVYqqRfxkXdM6B5KotBr',\n",
    "    'database': 'rainbow_tv_test',\n",
    "    'cursorclass': pymysql.cursors.DictCursor\n",
    "}\n",
    "\n",
    "# MySQL 데이터베이스 연결\n",
    "conn = pymysql.connect(**db_config)\n",
    "\n",
    "# 커서 생성\n",
    "cursor = conn.cursor()\n",
    "\n",
    "# 예제 쿼리: 사용자 테이블에서 모든 데이터를 선택\n",
    "query = \"SELECT * FROM movie\"\n",
    "\n",
    "# 쿼리 실행\n",
    "cursor.execute(query)\n",
    "\n",
    "# 결과 가져오기\n",
    "results = cursor.fetchall()\n",
    "\n",
    "# 결과 출력\n",
    "for row in results:\n",
    "    print(row)"
   ]
  }
 ],
 "metadata": {
  "kernelspec": {
   "display_name": "doomin",
   "language": "python",
   "name": "doomin"
  },
  "language_info": {
   "name": "python",
   "version": "3.7.1"
  }
 },
 "nbformat": 4,
 "nbformat_minor": 2
}
