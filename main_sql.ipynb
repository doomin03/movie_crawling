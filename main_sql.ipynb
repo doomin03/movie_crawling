{
 "cells": [
  {
   "cell_type": "code",
   "execution_count": 4,
   "metadata": {},
   "outputs": [],
   "source": [
    "import pymysql\n",
    "import pandas as pd\n",
    "\n",
    "# MySQL 서버에 연결\n",
    "conn = pymysql.connect(\n",
    "    host='localhost',\n",
    "    port=13309,\n",
    "    user='admin',\n",
    "    password='vVYqqRfxkXdM6B5KotBr',\n",
    "    database='rainbow_tv_test',\n",
    ")\n",
    "\n",
    "# 쿼리 작성\n",
    "query = \"SELECT * FROM dgm_media_change\"\n",
    "\n",
    "# 쿼리 실행 및 결과 데이터프레임으로 변환\n",
    "df = pd.read_sql(query, conn)\n",
    "\n",
    "# 결과를 CSV 파일로 내보내기\n",
    "df.to_csv('dgm_media.csv', index=False)\n",
    "\n",
    "# 연결 종료\n",
    "conn.close()\n"
   ]
  },
  {
   "cell_type": "code",
   "execution_count": 2,
   "metadata": {},
   "outputs": [],
   "source": [
    "import pymysql\n",
    "import pandas as pd\n",
    "\n",
    "# MySQL 서버에 연결\n",
    "conn = pymysql.connect(\n",
    "    host='localhost',\n",
    "    port=13309,\n",
    "    user='admin',\n",
    "    password='vVYqqRfxkXdM6B5KotBr',\n",
    "    database='rainbow_tv_test',\n",
    ")\n",
    "\n",
    "# 쿼리 작성\n",
    "query = \"SELECT * FROM `dgm_media_change` dmc INNER JOIN `dgm_media_clinic` dmclinic ON dmc.`m_idx` = dmclinic.`m_idx` WHERE dmc.`m_price` IS  NULL;\"\n",
    "\n",
    "# 쿼리 실행 및 결과 데이터프레임으로 변환\n",
    "df = pd.read_sql(query, conn)\n",
    "\n",
    "# 결과를 CSV 파일로 내보내기\n",
    "df.to_csv('dgm_media_NULL_clinic.csv', index=False)\n",
    "\n",
    "# 연결 종료\n",
    "conn.close()\n"
   ]
  },
  {
   "cell_type": "code",
   "execution_count": 3,
   "metadata": {},
   "outputs": [
    {
     "name": "stdout",
     "output_type": "stream",
     "text": [
      "CSV 파일이 성공적으로 나눠졌습니다.\n"
     ]
    }
   ],
   "source": [
    "import pandas as pd\n",
    "\n",
    "# 원본 CSV 파일 경로\n",
    "original_csv_path = r\"C:\\Users\\HAMA\\Desktop\\crawling\\test\\movie_crawling\\data\\test_data\\test1.csv\"\n",
    "\n",
    "# CSV 파일을 읽어 DataFrame으로 변환\n",
    "df = pd.read_csv(original_csv_path)\n",
    "\n",
    "# 데이터프레임을 반으로 나누기\n",
    "half_length = len(df) // 2\n",
    "df_part1 = df.iloc[:20]\n",
    "df_part2 = df.iloc[half_length:]\n",
    "\n",
    "# 나눈 데이터프레임을 각각 새로운 CSV 파일로 저장\n",
    "part1_csv_path = \"test1.csv\"\n",
    "part2_csv_path = \"test2.csv\"\n",
    "df_part1.to_csv(part1_csv_path, index=False)\n",
    "\n",
    "\n",
    "print(\"CSV 파일이 성공적으로 나눠졌습니다.\")\n"
   ]
  },
  {
   "cell_type": "code",
   "execution_count": 7,
   "metadata": {},
   "outputs": [
    {
     "name": "stdout",
     "output_type": "stream",
     "text": [
      "비어있는 컬럼: ['m_price', 'm_running_time', 'm_dash_url', 'm_hls_url', 'guid', 'm_genre_type', 'deleted_at']\n"
     ]
    }
   ],
   "source": [
    "import pandas as pd\n",
    "df = pd.read_csv(r\"C:\\Users\\HAMA\\Desktop\\crawling\\movie_crawling\\data\\dgm_media.csv\")\n",
    "empty_columns = df.columns[df.isnull().any()].tolist()\n",
    "print(\"비어있는 컬럼:\", empty_columns)\n",
    "\n",
    "\n"
   ]
  },
  {
   "cell_type": "code",
   "execution_count": 8,
   "metadata": {},
   "outputs": [],
   "source": [
    "# CSV 파일 읽기\n",
    "df = pd.read_csv(r\"C:\\Users\\HAMA\\Desktop\\crawling\\movie_crawling\\data\\dgm_media.csv\")\n",
    "\n",
    "# 'm_price' 컬럼의 널 값을 0으로 채우기\n",
    "df['m_price'].fillna(0, inplace=True)\n",
    "\n",
    "# 수정된 데이터프레임을 CSV 파일로 저장\n",
    "df.to_csv('dgm_media_updata.csv', index=False)"
   ]
  },
  {
   "cell_type": "code",
   "execution_count": 4,
   "metadata": {},
   "outputs": [
    {
     "name": "stdout",
     "output_type": "stream",
     "text": [
      "0.15384615384615385\n"
     ]
    }
   ],
   "source": [
    "#삼각건 사용법 ONE☝ ㅣ응급처치 및 심폐소생술 경연대회 연습 동영상ㅣ대한적십자사 광주전남지사\n",
    "\n",
    "\n",
    "def __levenshtein_distance(s1, s2):\n",
    "    if len(s1) < len(s2):\n",
    "        return __levenshtein_distance(s2, s1)\n",
    "    if len(s2) == 0:\n",
    "        return len(s1)\n",
    "    previous_row = range(len(s2) + 1)\n",
    "    for i, c1 in enumerate(s1):\n",
    "        current_row = [i + 1]\n",
    "        for j, c2 in enumerate(s2):\n",
    "            insertions = previous_row[j + 1] + 1\n",
    "            deletions = current_row[j] + 1\n",
    "            substitutions = previous_row[j] + (c1 != c2)\n",
    "            current_row.append(min(insertions, deletions, substitutions))\n",
    "        previous_row = current_row\n",
    "    return previous_row[-1]\n",
    "\n",
    "def __similarity_score(s1, s2):\n",
    "    distance = __levenshtein_distance(s1, s2)\n",
    "    max_length = max(len(s1), len(s2))\n",
    "    similarity = 1 - distance / max_length\n",
    "    return similarity\n",
    "\n",
    "def __compare_word_pairs( pair1, pair2):\n",
    "    similarity_pair1 = __similarity_score(pair1[0], pair1[1])\n",
    "    similarity_pair2 = __similarity_score(pair2[0], pair2[1])\n",
    "    return similarity_pair1, similarity_pair2\n",
    "\n",
    "\n",
    "s1 = \"삼각건 사용법 TWO✌ ㅣ응급처치 및 심폐소생술 경연대회 연습 동영상ㅣ대한적십자사 광주전남지사\"\n",
    "s2 = \"[대한적십자사 광주전남지사 응급처치영상] 01회 삼각건사용법1 \"\n",
    "so = __similarity_score(s1, s2)\n",
    "print(so)\n",
    "\n"
   ]
  },
  {
   "cell_type": "code",
   "execution_count": 7,
   "metadata": {},
   "outputs": [
    {
     "name": "stdout",
     "output_type": "stream",
     "text": [
      "0.2988505747126437\n"
     ]
    }
   ],
   "source": [
    "from difflib import SequenceMatcher\n",
    "\n",
    "def __calculate_matching_ratio(s1, s2):\n",
    "    # SequenceMatcher를 사용하여 두 문자열 간의 일치하는 부분의 비율 계산\n",
    "    matcher = SequenceMatcher(None, s1, s2)\n",
    "    return matcher.ratio()  \n",
    "\n",
    "\n",
    "def calculate_similarity(title, data):\n",
    "    # 두 문자열의 일치하는 부분의 비율 계산\n",
    "    matching_ratio = __calculate_matching_ratio(title, data['title'])\n",
    "    return matching_ratio\n",
    "\n",
    "\n",
    "s1 = \"삼각건 사용법 TWO✌ ㅣ응급처치 및 심폐소생술 경연대회 연습 동영상ㅣ대한적십자사 광주전남지사\"\n",
    "s2 = \"[대한적십자사 광주전남지사 응급처치영상] 01회 삼각건사용법1 \"\n",
    "\n",
    "\n",
    "matching_ratio = __calculate_matching_ratio(s1, s2)\n",
    "print(matching_ratio)"
   ]
  }
 ],
 "metadata": {
  "kernelspec": {
   "display_name": "doomin",
   "language": "python",
   "name": "doomin"
  },
  "language_info": {
   "codemirror_mode": {
    "name": "ipython",
    "version": 3
   },
   "file_extension": ".py",
   "mimetype": "text/x-python",
   "name": "python",
   "nbconvert_exporter": "python",
   "pygments_lexer": "ipython3",
   "version": "3.7.1"
  }
 },
 "nbformat": 4,
 "nbformat_minor": 2
}
